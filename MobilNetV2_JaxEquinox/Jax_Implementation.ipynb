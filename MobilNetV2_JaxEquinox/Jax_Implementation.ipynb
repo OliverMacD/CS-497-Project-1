{
 "cells": [
  {
   "cell_type": "markdown",
   "metadata": {},
   "source": [
    "# Jax Implementation of MobileNetV2\n",
    "The following is a jax and equinox implementation of the MobileNetV2 architecture\n",
    "\n",
    "The implementation is broken up into its individual (modulo stride) layers"
   ]
  },
  {
   "cell_type": "code",
   "execution_count": 2,
   "metadata": {},
   "outputs": [],
   "source": [
    "import jax\n",
    "import jax.numpy as jnp\n",
    "import equinox as eqx\n",
    "import optax\n",
    "import matplotlib.pyplot as plt\n",
    "from typing import List\n",
    "from functools import partial"
   ]
  },
  {
   "cell_type": "markdown",
   "metadata": {},
   "source": [
    "## MobileNetV2\n",
    "\n",
    "The following is the full implementation of the MobileNetV2 architecture"
   ]
  },
  {
   "cell_type": "code",
   "execution_count": 3,
   "metadata": {},
   "outputs": [],
   "source": [
    "# Define a Depthwise Separable Convolution Layer\n",
    "class DepthwiseSeparableConv(eqx.Module):\n",
    "    depthwise: eqx.nn.Conv\n",
    "    pointwise: eqx.nn.Conv\n",
    "\n",
    "    def __init__(self, in_channels, out_channels, stride, key):\n",
    "        dw_key, pw_key = jax.random.split(key)\n",
    "        self.depthwise = eqx.nn.Conv(\n",
    "            in_channels=in_channels, \n",
    "            out_channels=in_channels, \n",
    "            kernel_size=(3, 3), \n",
    "            stride=stride, \n",
    "            padding=1, \n",
    "            groups=in_channels,\n",
    "            key=dw_key\n",
    "        )\n",
    "        self.pointwise = eqx.nn.Conv(\n",
    "            in_channels=in_channels, \n",
    "            out_channels=out_channels, \n",
    "            kernel_size=(3, 3), \n",
    "            key=pw_key\n",
    "        )\n",
    "\n",
    "    def __call__(self, x):\n",
    "        x = self.depthwise(x)\n",
    "        x = jax.nn.relu(x)\n",
    "        x = self.pointwise(x)\n",
    "        return x\n"
   ]
  },
  {
   "cell_type": "code",
   "execution_count": 6,
   "metadata": {},
   "outputs": [],
   "source": [
    "# Define a Bottleneck Block\n",
    "class Bottleneck(eqx.Module):\n",
    "    conv1: eqx.nn.Conv2d\n",
    "    depthwise_conv: DepthwiseSeparableConv\n",
    "    conv3: eqx.nn.Linear\n",
    "    use_residual: bool\n",
    "\n",
    "    def __init__(self, in_channels, out_channels, stride, expand_ratio, use_residual, key):\n",
    "        stride=stride\n",
    "        keys = jax.random.split(key, 3)\n",
    "        hidden_dim = in_channels * expand_ratio\n",
    "        self.conv1 = eqx.nn.Conv2d(in_channels, hidden_dim, kernel_size=(1, 1), key=keys[0])\n",
    "        self.depthwise_conv = [DepthwiseSeparableConv(hidden_dim, hidden_dim, stride=1, key=keys[1]),\n",
    "                               DepthwiseSeparableConv(hidden_dim, hidden_dim, stride=2, key=keys[1])]\n",
    "        self.conv3 = eqx.nn.Linear(hidden_dim, out_channels, kernel_size=(1, 1), key=keys[2])\n",
    "        self.use_residual = use_residual\n",
    "\n",
    "    def __call__(self, x):\n",
    "        residual = x\n",
    "        x = self.conv1(x)\n",
    "        x = jax.nn.relu(x)\n",
    "        if self.stride == 1:\n",
    "            x = self.depthwise_conv[0](x)\n",
    "            x = jax.nn.relu(x)\n",
    "            x = self.conv3(x)\n",
    "            return x + residual\n",
    "        else:\n",
    "            x = self.depthwise_conv[1](x)\n",
    "            x = jax.nn.relu(x)\n",
    "            x = self.conv3(x)\n",
    "            return x"
   ]
  },
  {
   "cell_type": "code",
   "execution_count": 7,
   "metadata": {},
   "outputs": [],
   "source": [
    "# Define the MobileNetV2\n",
    "class MobileNetV2(eqx.Module):\n",
    "    first_conv: eqx.nn.Conv\n",
    "    bottlenecks: list\n",
    "    last_conv: eqx.nn.Conv\n",
    "    pool: eqx.nn.AvgPool3d\n",
    "    classifier: eqx.nn.Conv\n",
    "\n",
    "    def __init__(self, num_classes, key):\n",
    "        keys = jax.random.split(key, 10)\n",
    "\n",
    "        self.first_conv = eqx.nn.Conv(3, 32, kernel_size=(3, 3), stride=2, padding=1, key=keys[0])\n",
    "\n",
    "        # Bottleneck blocks configuration\n",
    "        bottleneck_configs = [\n",
    "            # (in_channels, out_channels, stride, expand_ratio, n_repeats)\n",
    "            (32, 16, 1, 1, 1),   # First block, no expansion, no repetition\n",
    "            (16, 24, 2, 6, 2),   # Second block, 2x stride, 2 repetitions\n",
    "            (24, 32, 2, 6, 3),   # Third block, 2x stride, 3 repetitions\n",
    "            (32, 64, 2, 6, 4),   # Fourth block, 2x stride, 4 repetitions\n",
    "            (64, 96, 1, 6, 3),   # Fifth block, stride 1, 3 repetitions\n",
    "            (96, 160, 2, 6, 3),  # Sixth block, 2x stride, 3 repetitions\n",
    "            (160, 320, 1, 6, 1), # Seventh block, stride 1, no repetition\n",
    "        ]\n",
    "\n",
    "        self.bottlenecks = []\n",
    "        current_key = keys[1]\n",
    "\n",
    "        for config in bottleneck_configs:\n",
    "            in_channels, out_channels, stride, expand_ratio, n_repeats = config\n",
    "\n",
    "            # Add the first block in the stage with the specified stride\n",
    "            self.bottlenecks.append(\n",
    "                Bottleneck(in_channels, out_channels, stride, expand_ratio, use_residual=(stride == 1), key=current_key)\n",
    "            )\n",
    "            current_key = jax.random.split(current_key, 1)[0]\n",
    "\n",
    "            # Add the remaining blocks with stride = 1\n",
    "            for i in range(n_repeats - 1):\n",
    "                self.bottlenecks.append(\n",
    "                    Bottleneck(out_channels, out_channels, stride=1, expand_ratio=expand_ratio, use_residual=True, key=current_key)\n",
    "                )\n",
    "                current_key = jax.random.split(current_key, 1)[0]\n",
    "\n",
    "        self.last_conv = eqx.nn.Conv(24, 1280, kernel_size=(1, 1), key=keys[2])\n",
    "        self.pool = eqx.nn.AvgPool2d(kernel_size=(7, 7))\n",
    "        self.classifier = eqx.nn.Conv(1280, num_classes, kernel_size=(1,1),key=keys[3])\n",
    "\n",
    "    def __call__(self, x):\n",
    "        x = self.first_conv(x)\n",
    "        x = jax.nn.relu(x)\n",
    "\n",
    "        for bottleneck in self.bottlenecks:\n",
    "            x = bottleneck(x)\n",
    "\n",
    "        x = self.last_conv(x)\n",
    "        x = jax.nn.relu(x)\n",
    "        x = jnp.mean(x, axis=(1, 2))  # Global average pooling\n",
    "        x = self.classifier(x)\n",
    "        return x\n"
   ]
  },
  {
   "cell_type": "markdown",
   "metadata": {},
   "source": [
    "## Training"
   ]
  },
  {
   "cell_type": "code",
   "execution_count": null,
   "metadata": {},
   "outputs": [],
   "source": [
    "# Training Settings\n",
    "LEARNING_RATE = 0.1 # Learning Rate\n",
    "N_EPOCHS = 30_000   # Number of Epochs\n",
    "k = 0               # Final Output Size for Classification???"
   ]
  },
  {
   "cell_type": "code",
   "execution_count": null,
   "metadata": {},
   "outputs": [],
   "source": [
    "# Key generation\n",
    "key = jax.random.PRNGKey(0)"
   ]
  },
  {
   "cell_type": "code",
   "execution_count": null,
   "metadata": {},
   "outputs": [],
   "source": []
  },
  {
   "cell_type": "markdown",
   "metadata": {},
   "source": [
    "### Importing Data Set"
   ]
  },
  {
   "cell_type": "markdown",
   "metadata": {},
   "source": [
    "### Running Training\n"
   ]
  },
  {
   "cell_type": "markdown",
   "metadata": {},
   "source": [
    "## Results"
   ]
  }
 ],
 "metadata": {
  "kernelspec": {
   "display_name": "AIML",
   "language": "python",
   "name": "python3"
  },
  "language_info": {
   "codemirror_mode": {
    "name": "ipython",
    "version": 3
   },
   "file_extension": ".py",
   "mimetype": "text/x-python",
   "name": "python",
   "nbconvert_exporter": "python",
   "pygments_lexer": "ipython3",
   "version": "3.12.4"
  }
 },
 "nbformat": 4,
 "nbformat_minor": 2
}
